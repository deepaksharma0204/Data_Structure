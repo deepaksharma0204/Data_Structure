{
 "cells": [
  {
   "cell_type": "code",
   "execution_count": null,
   "id": "edf4995e-3848-409e-936c-b5c028007bdc",
   "metadata": {},
   "outputs": [],
   "source": [
    "# Q1: Discuss string slicing and provide examples"
   ]
  },
  {
   "cell_type": "code",
   "execution_count": null,
   "id": "fb82ac2d-4e7b-4fa1-8cf5-42a6a810b19d",
   "metadata": {},
   "outputs": [],
   "source": [
    "# Ans:- String slicing is a way to access a portion (or \"slice\") of a string in Python. \n",
    "# By specifying a start, stop, and step, you can extract specific parts of the string.\n",
    "# The syntax for slicing is:\n",
    "# string[start:stop:step]\n",
    "# Start: The index where the Slice starts (inclusive). If omitted, the slice start from the beginning of the string.\n",
    "# Stop: The index where the slice ends (exclusive). If omitted, the slice goes to the end of the string.\n",
    "# Step: The interval between each character in the slice . If omitted the default step is 1.\n",
    "# Examples are as follows:"
   ]
  },
  {
   "cell_type": "code",
   "execution_count": 5,
   "id": "b84a3a61-dc9d-4ac7-9df5-3bf78d3db20a",
   "metadata": {},
   "outputs": [
    {
     "name": "stdout",
     "output_type": "stream",
     "text": [
      "Hello\n"
     ]
    }
   ],
   "source": [
    "# Basic Slicing:\n",
    "text = \"Hello, World!\"\n",
    "print(text[0:5])"
   ]
  },
  {
   "cell_type": "code",
   "execution_count": 4,
   "id": "2a58c5fc-b875-4143-b064-b267f326cb9f",
   "metadata": {},
   "outputs": [
    {
     "name": "stdout",
     "output_type": "stream",
     "text": [
      "Hello\n",
      "World!\n",
      "Hello, World!\n"
     ]
    }
   ],
   "source": [
    "# Omitting Start and Stop:\n",
    "text = \"Hello, World!\"\n",
    "print(text[:5])\n",
    "print(text[7:])\n",
    "print(text[:])"
   ]
  },
  {
   "cell_type": "code",
   "execution_count": 6,
   "id": "014249d0-75cb-41d4-9c02-e8ce1096d612",
   "metadata": {},
   "outputs": [
    {
     "name": "stdout",
     "output_type": "stream",
     "text": [
      "Hlo ol!\n"
     ]
    }
   ],
   "source": [
    "# Using Step:\n",
    "text = \"Hello, World!\"\n",
    "print(text[::2])"
   ]
  },
  {
   "cell_type": "code",
   "execution_count": 7,
   "id": "228c6d95-a05d-4645-a957-623d7c294e62",
   "metadata": {},
   "outputs": [
    {
     "name": "stdout",
     "output_type": "stream",
     "text": [
      "World\n"
     ]
    }
   ],
   "source": [
    "# Negative Indices:\n",
    "text = \"Hello, World!\"\n",
    "print(text[-6:-1])"
   ]
  },
  {
   "cell_type": "code",
   "execution_count": null,
   "id": "c21eb766-dc15-4390-b223-663424128bf7",
   "metadata": {},
   "outputs": [],
   "source": [
    "# Q2: Explain the key features of lists in Python"
   ]
  },
  {
   "cell_type": "code",
   "execution_count": 8,
   "id": "2118b0e3-e367-45f1-8f05-6cc7ed21807c",
   "metadata": {},
   "outputs": [
    {
     "name": "stdout",
     "output_type": "stream",
     "text": [
      "Apple\n"
     ]
    }
   ],
   "source": [
    "# Ans:- Lists in Python are versatile, ordered collections that a hold a variety of data types. \n",
    "# Lists in Python are powerful tools for handling collections of data, providing flexibility and functionality \n",
    "# that make them suitable for a wide range of programming tasks.\n",
    "# Here are the key features of lists:\n",
    "# 1. Ordered Collection:- List maintain the order of elements. The order in whcih you insert elements in the order in which they are \n",
    "# stored and accessed.\n",
    "# Example:\n",
    "fruits = ['Apple', 'Banana', 'Cherry']\n",
    "print(fruits[0])"
   ]
  },
  {
   "cell_type": "code",
   "execution_count": 9,
   "id": "55989eb0-ab47-4387-8cf1-23783b5d9442",
   "metadata": {},
   "outputs": [
    {
     "name": "stdout",
     "output_type": "stream",
     "text": [
      "['Apple', 'Blueberry', 'Cherry']\n"
     ]
    }
   ],
   "source": [
    "# 2. Mutable:- Lists are mutable means you can change, add or remove elements after the list has been created.\n",
    "# Example:\n",
    "fruits = ['Apple', 'Banana', 'Cherry']\n",
    "fruits[1] = 'Blueberry'\n",
    "print(fruits)"
   ]
  },
  {
   "cell_type": "code",
   "execution_count": 10,
   "id": "4fde2aee-9965-4155-98ec-d6d238e9221d",
   "metadata": {},
   "outputs": [
    {
     "name": "stdout",
     "output_type": "stream",
     "text": [
      "[1, 'Hello', 3.14, [5, 6]]\n"
     ]
    }
   ],
   "source": [
    "# 3. Hetrogeneous Elements:- Lists can store elements of different data types, including integers, strings, floats and even other lists.\n",
    "# Example:\n",
    "mixed_list = [1, \"Hello\", 3.14, [5, 6]]\n",
    "print(mixed_list)"
   ]
  },
  {
   "cell_type": "code",
   "execution_count": 11,
   "id": "33c76eee-a5e0-40b7-88a8-68853dbdcd8e",
   "metadata": {},
   "outputs": [
    {
     "name": "stdout",
     "output_type": "stream",
     "text": [
      "[1, 2, 3, 4]\n"
     ]
    }
   ],
   "source": [
    "# 4. Dynamic Size: Lists can grom and shrink as needed. You can append or remove elements dynamically\n",
    "# Example:\n",
    "numbers = [1, 2, 3]\n",
    "numbers.append(4)\n",
    "print(numbers)"
   ]
  },
  {
   "cell_type": "code",
   "execution_count": 13,
   "id": "de3fbaac-272a-44db-9953-aeec990817ac",
   "metadata": {},
   "outputs": [
    {
     "name": "stdout",
     "output_type": "stream",
     "text": [
      "[1, 2, 3]\n"
     ]
    }
   ],
   "source": [
    "numbers.pop()\n",
    "print(numbers)"
   ]
  },
  {
   "cell_type": "code",
   "execution_count": 14,
   "id": "b3833a9f-61c3-493f-9c5e-e430f6a7530c",
   "metadata": {},
   "outputs": [
    {
     "name": "stdout",
     "output_type": "stream",
     "text": [
      "blue\n"
     ]
    }
   ],
   "source": [
    "# 5. Indexing and Slicing:- Lists support indexing, allowing access to individual elements, and slicing, which allows you to extract sublists.\n",
    "# Example:\n",
    "colors = ['red', 'green', 'blue', 'yellow']\n",
    "print(colors[2])"
   ]
  },
  {
   "cell_type": "code",
   "execution_count": 15,
   "id": "52f3dd0d-79b8-41b3-be23-ea023316fddb",
   "metadata": {},
   "outputs": [
    {
     "name": "stdout",
     "output_type": "stream",
     "text": [
      "['green', 'blue']\n"
     ]
    }
   ],
   "source": [
    "print(colors[1:3])"
   ]
  },
  {
   "cell_type": "code",
   "execution_count": 16,
   "id": "c5c1fa37-e94d-4cb7-b820-96cdac318146",
   "metadata": {},
   "outputs": [
    {
     "name": "stdout",
     "output_type": "stream",
     "text": [
      "red\n",
      "green\n",
      "blue\n",
      "yellow\n"
     ]
    }
   ],
   "source": [
    "# 6. Iterable: Lists are iterable, meaning you can loop through the elements using loops like 'for'.\n",
    "#Example:\n",
    "for color in colors:\n",
    "    print(color)"
   ]
  },
  {
   "cell_type": "code",
   "execution_count": 19,
   "id": "52df8518-69e8-4117-94b4-e1b77c9892a0",
   "metadata": {},
   "outputs": [
    {
     "name": "stdout",
     "output_type": "stream",
     "text": [
      "[1, 2, 5, 9]\n"
     ]
    }
   ],
   "source": [
    "# 7. Built-in Methods:- Python lists come with a variety of built-in methods that allow you to manipulate the list, such as \n",
    "# append(), remove(), pop(), sort(), reverse(), and more.\n",
    "# Example:\n",
    "numbers = [5, 2, 9, 1]\n",
    "numbers.sort()\n",
    "print(numbers)"
   ]
  },
  {
   "cell_type": "code",
   "execution_count": 20,
   "id": "13d044a1-77b8-4905-a9ab-10af117a41b5",
   "metadata": {},
   "outputs": [
    {
     "name": "stdout",
     "output_type": "stream",
     "text": [
      "[0, 1, 4, 9, 16]\n"
     ]
    }
   ],
   "source": [
    "# 8. Comprehensions:- List comprehensions provide a concise way to create lists. They are often used to create new lists \n",
    "# by applying an expression to each element in an existing iterable.\n",
    "# Example:\n",
    "squares = [x**2 for x in range(5)]\n",
    "print(squares)"
   ]
  },
  {
   "cell_type": "code",
   "execution_count": 21,
   "id": "1a7f6634-23e6-4ca5-93fa-26b2d04ec285",
   "metadata": {},
   "outputs": [
    {
     "name": "stdout",
     "output_type": "stream",
     "text": [
      "6\n"
     ]
    }
   ],
   "source": [
    "# 9. Nested Lists:- Lists can contain other lists as elements, allowing the creation of complex data structures like \n",
    "# matrices or lists of lists.\n",
    "# Example:\n",
    "matrix = [[1, 2, 3], [4, 5, 6], [7, 8, 9]]\n",
    "print(matrix[1][2])"
   ]
  },
  {
   "cell_type": "code",
   "execution_count": 23,
   "id": "8e785062-df65-47a7-ba30-765c0b463dc1",
   "metadata": {},
   "outputs": [
    {
     "name": "stdout",
     "output_type": "stream",
     "text": [
      "3\n"
     ]
    }
   ],
   "source": [
    "# 10. Variable Length:- The length of a list can be easily obtained using the len() function, and it can be of any length, from empty to millions of elements.\n",
    "# Example:\n",
    "items = ['a', 'b', 'c']\n",
    "print(len(items))"
   ]
  },
  {
   "cell_type": "code",
   "execution_count": null,
   "id": "1bef3f9f-a7ad-4c0c-921f-860a555d23ec",
   "metadata": {},
   "outputs": [],
   "source": [
    "# Q3: Describe how to access, modify, and delete elements in a list with examples"
   ]
  },
  {
   "cell_type": "code",
   "execution_count": 24,
   "id": "68d28303-43f9-4117-8eee-6bf5c885123c",
   "metadata": {},
   "outputs": [
    {
     "name": "stdout",
     "output_type": "stream",
     "text": [
      "apple\n",
      "cherry\n"
     ]
    }
   ],
   "source": [
    "# Ans:- Accessing Elements in a list:- You can access elements in a list using indexing. The index starts from '0' for the first element and goes up to 'n-1' for a list with 'n' elements. \n",
    "# Negative indexing allows you to access elements from the end of the list, with '-1' referring to the last element.\n",
    "# Examples:\n",
    "# 1. Accessing Elements by Positive index:\n",
    "fruits = ['apple', 'banana', 'cherry', 'date']\n",
    "print(fruits[0])\n",
    "print(fruits[2])"
   ]
  },
  {
   "cell_type": "code",
   "execution_count": 25,
   "id": "bd28ff52-3d9a-47b1-ad9e-1fe8b9ed7670",
   "metadata": {},
   "outputs": [
    {
     "name": "stdout",
     "output_type": "stream",
     "text": [
      "date\n",
      "banana\n"
     ]
    }
   ],
   "source": [
    "# 2. Accessing Elements by Negative index:\n",
    "print(fruits[-1])\n",
    "print(fruits[-3])"
   ]
  },
  {
   "cell_type": "code",
   "execution_count": 26,
   "id": "4566df9e-e8cf-443d-ad5c-36b7310b0098",
   "metadata": {},
   "outputs": [
    {
     "name": "stdout",
     "output_type": "stream",
     "text": [
      "['banana', 'cherry']\n",
      "['apple', 'banana']\n",
      "['cherry', 'date']\n"
     ]
    }
   ],
   "source": [
    "# 3. Accessing a Sublist (Slicing):\n",
    "print(fruits[1:3])\n",
    "print(fruits[:2])\n",
    "print(fruits[2:])"
   ]
  },
  {
   "cell_type": "code",
   "execution_count": 27,
   "id": "fdc3e6a0-956e-47ed-8688-53e294c34228",
   "metadata": {},
   "outputs": [
    {
     "name": "stdout",
     "output_type": "stream",
     "text": [
      "['apple', 'blueberry', 'cherry', 'date']\n"
     ]
    }
   ],
   "source": [
    "# Modifying Elemnets in a list: Lists are mutable, meaning you can modify an element by assigning a new value to a specific index.\n",
    "# Examples:\n",
    "# 1. Modifying a Single Element:\n",
    "fruits[1] = 'blueberry'\n",
    "print(fruits)"
   ]
  },
  {
   "cell_type": "code",
   "execution_count": 28,
   "id": "514dae67-b8dc-43aa-b128-3f4ac034e428",
   "metadata": {},
   "outputs": [
    {
     "name": "stdout",
     "output_type": "stream",
     "text": [
      "['apple', 'blackberry', 'elderberry', 'date']\n"
     ]
    }
   ],
   "source": [
    "# 2. Modifying Multiple Elements (Using Slicing):\n",
    "fruits[1:3] = ['blackberry', 'elderberry']\n",
    "print(fruits)"
   ]
  },
  {
   "cell_type": "code",
   "execution_count": 29,
   "id": "ef8ef76d-c8c1-4c5f-bbdb-890595c76420",
   "metadata": {},
   "outputs": [
    {
     "name": "stdout",
     "output_type": "stream",
     "text": [
      "['apple', 'blackberry', 'elderberry', 'date', 'fig']\n"
     ]
    }
   ],
   "source": [
    "# 3. Appending Elements:\n",
    "fruits.append('fig')\n",
    "print(fruits)"
   ]
  },
  {
   "cell_type": "code",
   "execution_count": 30,
   "id": "e32cba37-0be3-4f3b-b061-6e507e90ce0b",
   "metadata": {},
   "outputs": [
    {
     "name": "stdout",
     "output_type": "stream",
     "text": [
      "['apple', 'grape', 'blackberry', 'elderberry', 'date', 'fig']\n"
     ]
    }
   ],
   "source": [
    "# 4. Inserting Elements at a Specific Postion:\n",
    "fruits.insert(1, 'grape')\n",
    "print(fruits)"
   ]
  },
  {
   "cell_type": "code",
   "execution_count": 31,
   "id": "82f90536-e772-4265-a500-87c60f99a50f",
   "metadata": {},
   "outputs": [
    {
     "name": "stdout",
     "output_type": "stream",
     "text": [
      "['apple', 'blackberry', 'elderberry', 'date', 'fig']\n"
     ]
    }
   ],
   "source": [
    "# Deleting Elements in a List:- You can delete elements from a list using the 'del' statement, 'remove()' method, 'pop()' method, or by \n",
    "# assigning an empty list to a slice.\n",
    "# Examples:\n",
    "# 1. Deleting an Elements by Index:\n",
    "del fruits[1]\n",
    "print(fruits)"
   ]
  },
  {
   "cell_type": "code",
   "execution_count": 32,
   "id": "f49ceff8-8ff0-4575-8428-f5e2e451e041",
   "metadata": {},
   "outputs": [
    {
     "name": "stdout",
     "output_type": "stream",
     "text": [
      "['apple', 'blackberry', 'fig']\n"
     ]
    }
   ],
   "source": [
    "# 2. Deleting a Sublist (Using Slicing):\n",
    "del fruits[2:4]\n",
    "print(fruits)"
   ]
  },
  {
   "cell_type": "code",
   "execution_count": 33,
   "id": "689221e5-c3d2-4796-882d-b9e18bdaba1b",
   "metadata": {},
   "outputs": [
    {
     "name": "stdout",
     "output_type": "stream",
     "text": [
      "['apple', 'fig']\n"
     ]
    }
   ],
   "source": [
    "# 3. Removing an Element by Value:\n",
    "fruits.remove('blackberry')\n",
    "print(fruits)"
   ]
  },
  {
   "cell_type": "code",
   "execution_count": 36,
   "id": "d91a3cf3-5b95-40b7-81f7-f9da58d2f864",
   "metadata": {},
   "outputs": [
    {
     "name": "stdout",
     "output_type": "stream",
     "text": [
      "apple\n",
      "[]\n"
     ]
    }
   ],
   "source": [
    "# 4. Popping an Element Index:\n",
    "popped_fruit = fruits.pop(0)\n",
    "print(popped_fruit)\n",
    "print(fruits)"
   ]
  },
  {
   "cell_type": "code",
   "execution_count": 37,
   "id": "32df442d-32cd-4b83-9d5e-7818b2aae271",
   "metadata": {},
   "outputs": [
    {
     "name": "stdout",
     "output_type": "stream",
     "text": [
      "[]\n"
     ]
    }
   ],
   "source": [
    "# 5. Clearing All Elements:\n",
    "fruits.clear()\n",
    "print(fruits)"
   ]
  },
  {
   "cell_type": "code",
   "execution_count": null,
   "id": "823f159d-31a1-471c-a591-360c2f1f7d9d",
   "metadata": {},
   "outputs": [],
   "source": [
    "# Q4: Compare and contrast tuples and lists with examples"
   ]
  },
  {
   "cell_type": "code",
   "execution_count": 38,
   "id": "ef9485e9-bc67-4659-9855-c478f0d20174",
   "metadata": {},
   "outputs": [
    {
     "name": "stdout",
     "output_type": "stream",
     "text": [
      "['apple', 'blueberry', 'cherry']\n"
     ]
    }
   ],
   "source": [
    "# Ans: Tuples and lists are both sequence data types in Python that can store collections of items, but they have some key differences. \n",
    "# Here’s a comparison of tuples and lists:\n",
    "# 1. Mutability:-\n",
    "# List: Lists are mutable, meaning their elements can be changed after the list is created.\n",
    "# Tuple: Tuples are immutable, meaning once a tuple is created, its elements cannot be changed.\n",
    "# Example:\n",
    "# List Example\n",
    "fruits_list = ['apple', 'banana', 'cherry']\n",
    "fruits_list[1] = 'blueberry'\n",
    "print(fruits_list)"
   ]
  },
  {
   "cell_type": "code",
   "execution_count": 39,
   "id": "4cf05c83-aae2-447e-ba3d-bffe4facfa1e",
   "metadata": {},
   "outputs": [],
   "source": [
    "# Tuple Example\n",
    "fruits_tuple = ('apple', 'banana', 'cherry')"
   ]
  },
  {
   "cell_type": "code",
   "execution_count": 40,
   "id": "0c20c85f-8734-4eb5-ba61-00b3eaf8b6ec",
   "metadata": {},
   "outputs": [
    {
     "name": "stdout",
     "output_type": "stream",
     "text": [
      "['bread', 'milk', 'eggs', 'butter']\n"
     ]
    }
   ],
   "source": [
    "# 2. Syntax:\n",
    "# List: Lists are deffined using the square brackets '[]'.\n",
    "# Tuple: Tuples are define using '()'.\n",
    "# Example:\n",
    "fruits_list = ['apple', 'banana', 'cherry']\n",
    "fruits_list = ('apple', 'banana', 'cherry')\n",
    "\n",
    "# 3. Performance:-\n",
    "# List: Lists are generally slower than tuples when it comes to iteration and memory usage because they are mutable.\n",
    "# Tuple: Tuples are faster and use less memory because they are immutable, making them more efficient for fixed collections of items.\n",
    "# Example: Tuples are typically faster in operations that involve looping or indexing.\n",
    "\n",
    "# 4. Use Cases:-\n",
    "# List: Use lists when you need a collection of items that may change over time (e.g., adding, removing, or modifying elements).\n",
    "# Tuple: Use tuples when you need a collection of items that should \n",
    "# not change (e.g., returning multiple values from a function, representing fixed sets of data).\n",
    "# Examples:\n",
    "# List us case: A shopping cart that can have items added or removed\n",
    "shopping_cart = ['bread', 'milk', 'eggs']\n",
    "shopping_cart.append('butter')\n",
    "print(shopping_cart)"
   ]
  },
  {
   "cell_type": "code",
   "execution_count": 41,
   "id": "257c4f3f-045d-4db6-9279-4d2e45976a04",
   "metadata": {},
   "outputs": [],
   "source": [
    "# Tuple use case: Coordinates that should't change\n",
    "coordinates = (10.0, 20.0)\n",
    "# coordinates [0] = 15.0 # This would raise a type error."
   ]
  },
  {
   "cell_type": "code",
   "execution_count": 42,
   "id": "f5c4d6c3-535c-4795-a63f-f518d819c6da",
   "metadata": {},
   "outputs": [
    {
     "name": "stdout",
     "output_type": "stream",
     "text": [
      "['apple', 'banana', 'cherry', 'date']\n"
     ]
    }
   ],
   "source": [
    "# 5. Method:-\n",
    "# List: Lists have several built-in methods like 'append()', 'remove()', 'pop()', 'sort()', etc., for modifying the list.\n",
    "# Tupple: Tuples have fewer built-in methods since they cannot be modified. The main methods available are 'count()' and 'index()'.\n",
    "# Examples:\n",
    "# List methods\n",
    "fruits_list = ['apple', 'banana', 'cherry']\n",
    "fruits_list.append('date')\n",
    "print(fruits_list)"
   ]
  },
  {
   "cell_type": "code",
   "execution_count": 44,
   "id": "90364df6-c1a7-4b7d-ad49-2a5df07ea15c",
   "metadata": {},
   "outputs": [
    {
     "name": "stdout",
     "output_type": "stream",
     "text": [
      "1\n",
      "2\n"
     ]
    }
   ],
   "source": [
    "# Tuple methods\n",
    "fruits_list = ('apple', 'banana', 'cherry', 'apple')\n",
    "print(fruits_tuple.count('apple'))\n",
    "print(fruits_tuple.index('cherry'))"
   ]
  },
  {
   "cell_type": "code",
   "execution_count": null,
   "id": "a4f68d2e-9c9a-44d9-b741-d7033355bb68",
   "metadata": {},
   "outputs": [],
   "source": [
    "# 6. Length:-\n",
    "# List: Lists can be of any length and can be changed dynamically.\n",
    "# Tuple: Tuples also can be of any length, but once set, their length is fixed.\n",
    "# Examples:\n",
    "# Both Tuple and List can hold any number of elements\n",
    "fruits_list = ['apple', 'banana', 'cherry']\n",
    "fruits_list = ('apple', 'banana', 'cherry')"
   ]
  },
  {
   "cell_type": "code",
   "execution_count": null,
   "id": "0b2cf98f-46fb-43b0-9fad-c615e9e68b7d",
   "metadata": {},
   "outputs": [],
   "source": [
    "# 7. Nested Structures:-\n",
    "# List: Lists can contain other lists, creating nested structures.\n",
    "# Tuple: Tuples can also contain other tuples or lists, allowing for nested structures.\n",
    "# Example:\n",
    "nested_list = [[1, 2, 3], [4, 5, 6]]\n",
    "nested_tuple = ((1, 2, 3), (4, 5, 6))"
   ]
  },
  {
   "cell_type": "code",
   "execution_count": null,
   "id": "cf43acfe-5d0a-4314-876b-c61777ee8dd0",
   "metadata": {},
   "outputs": [],
   "source": [
    "# 8. Immutavility Benefits:-\n",
    "# List: Since lists are mutable, they can't be used as keys in dictionaries.\n",
    "# Tuple: Tuples, being immutable, can be used as dictionary keys."
   ]
  },
  {
   "cell_type": "code",
   "execution_count": null,
   "id": "16cc2d65-7b1e-4781-b3b0-ec17a3cc634d",
   "metadata": {},
   "outputs": [],
   "source": [
    "# Q5: Describe the key features of sets and provide examples of their use"
   ]
  },
  {
   "cell_type": "code",
   "execution_count": 49,
   "id": "a303932f-0efb-47a9-b506-262456f417ae",
   "metadata": {},
   "outputs": [
    {
     "name": "stdout",
     "output_type": "stream",
     "text": [
      "{'cherry', 'apple', 'banana'}\n"
     ]
    }
   ],
   "source": [
    "# Ans: Sets are collections of unique, unordered elements. They provide efficient membership testing and support operations \n",
    "# like union, intersection, and difference, making them ideal for working with distinct data items.\n",
    "# Sets are mutable, but they do not allow indexing, slicing, or duplicate elements. For immutable sets, Python provides \n",
    "# the 'frozenset' type. Here are the key features of sets, along with examples of their use:\n",
    "# 1. Unordered Collection:-\n",
    "# Sets are unordered, meaning the elements have no specific position or index. You cannot access elements using an index like \n",
    "# you would in a list or tuple.\n",
    "# Example:\n",
    "fruits = {'apple', 'banana', 'cherry'}\n",
    "print(fruits)"
   ]
  },
  {
   "cell_type": "code",
   "execution_count": 50,
   "id": "f2542cb0-6016-457a-b50a-43b067aaf96e",
   "metadata": {},
   "outputs": [
    {
     "name": "stdout",
     "output_type": "stream",
     "text": [
      "{1, 2, 3, 4, 5}\n"
     ]
    }
   ],
   "source": [
    "# 2. Unique Elements:- Sets automatically remove duplicate values. Every element in a set is unique.\n",
    "# Example:\n",
    "numbers = {1, 2, 3, 3, 4, 4, 5}\n",
    "print(numbers)"
   ]
  },
  {
   "cell_type": "code",
   "execution_count": 51,
   "id": "32ca7c50-17ac-4d4e-9600-859638c453c4",
   "metadata": {},
   "outputs": [
    {
     "name": "stdout",
     "output_type": "stream",
     "text": [
      "{'fish', 'cat', 'bird', 'dog'}\n"
     ]
    }
   ],
   "source": [
    "# 3. Mutable:- Sets are mutable, meaning you can add or remove elements after the set is created.\n",
    "# Example:\n",
    "animals = {'dog', 'cat', 'bird'}\n",
    "animals.add('fish')\n",
    "print(animals)"
   ]
  },
  {
   "cell_type": "code",
   "execution_count": 55,
   "id": "c2ec9b34-98f4-4714-b383-ab5e60eaa483",
   "metadata": {},
   "outputs": [
    {
     "name": "stdout",
     "output_type": "stream",
     "text": [
      "{'fish', 'bird'}\n"
     ]
    }
   ],
   "source": [
    "animals.remove('dog')\n",
    "print(animals)"
   ]
  },
  {
   "cell_type": "code",
   "execution_count": 56,
   "id": "a14ab79c-d50e-485c-b65f-a10640f253ba",
   "metadata": {},
   "outputs": [
    {
     "name": "stdout",
     "output_type": "stream",
     "text": [
      "{'blue', 'red', 'green'}\n"
     ]
    }
   ],
   "source": [
    "# 4. No Duplicates:- Adding a duplicate element to a set has no effect because sets do not allow duplicates.\n",
    "# Example:\n",
    "colors = {'red', 'green', 'blue'}\n",
    "colors.add('green')\n",
    "print(colors)"
   ]
  },
  {
   "cell_type": "code",
   "execution_count": 57,
   "id": "4fee62ab-6e33-48c3-9c6f-b04a407321ec",
   "metadata": {},
   "outputs": [
    {
     "name": "stdout",
     "output_type": "stream",
     "text": [
      "frozenset({1, 2, 3, 4})\n"
     ]
    }
   ],
   "source": [
    "# 5. Immutable Sets (frozenset):- Python provides an immutable version of a set called 'frozenset'. Once created, you cannot modify a 'frozenset'.\n",
    "# Example:\n",
    "frozen_numbers = frozenset([1, 2, 3, 4])\n",
    "print(frozen_numbers)"
   ]
  },
  {
   "cell_type": "code",
   "execution_count": 58,
   "id": "dca7caf4-ca51-486a-9e29-cdd1eb8bde3d",
   "metadata": {},
   "outputs": [
    {
     "name": "stdout",
     "output_type": "stream",
     "text": [
      "{0, 1, 4, 9, 16, 25}\n"
     ]
    }
   ],
   "source": [
    "# 6. Set Comprehensions:- Like list comprehensions, you can use set comprehensions to generate sets dynamically.\n",
    "# Example:\n",
    "squares = {x**2 for x in range(6)}\n",
    "print(squares)"
   ]
  },
  {
   "cell_type": "code",
   "execution_count": null,
   "id": "d1abd19c-34dc-4bf8-a249-a78bbfd5eddf",
   "metadata": {},
   "outputs": [],
   "source": [
    "# Q6: Discuss the use cases of tuples and sets in Python programming"
   ]
  },
  {
   "cell_type": "code",
   "execution_count": 59,
   "id": "aa74d36e-5852-4e60-af94-6e618a0f30fb",
   "metadata": {},
   "outputs": [
    {
     "name": "stdout",
     "output_type": "stream",
     "text": [
      "(1, 5)\n"
     ]
    }
   ],
   "source": [
    "# Ans: Tuples and sets in Python each have their own unique characteristics that make them well-suited for specific use cases.\n",
    "# Tuples: Best used for fixed, ordered collections of related data where immutability and memory efficiency are important. \n",
    "# They are ideal for function returns, constant data, and situations where the integrity of the data is crucial.\n",
    "# Sets: Best used for collections of unique, unordered items where membership testing, uniqueness, and set operations like union \n",
    "# and intersection are required. They are ideal for removing duplicates, filtering data, and performing fast membership checks.\n",
    "# Here's a discussion of when and why you might use tuples and sets in Python programming:\n",
    "\n",
    "# Use Cases for Tuples\n",
    "# 1. Fixed Collections of Data:-\n",
    "# Use Case: When you need to store a sequence of items that should not change throughout the program.\n",
    "# Example: Coordinates, RGB color values, or configuration constants.\n",
    "\n",
    "# 2. Returning Multiple Values from Functions:-\n",
    "# Use Case: When a function needs to return more than one value, using a tuple allows the return of multiple items in a single operation.\n",
    "# Example:\n",
    "def get_min_max(numbers):\n",
    "    return min(numbers), max(numbers)\n",
    "result = get_min_max([1, 2, 3, 4, 5])\n",
    "print(result)"
   ]
  },
  {
   "cell_type": "code",
   "execution_count": 60,
   "id": "3f0f9d4a-b30e-4fa3-b8c4-becaa88db61d",
   "metadata": {},
   "outputs": [],
   "source": [
    "# 3. Immutable Data Structures:-\n",
    "# Use Case: When you need an immutable sequence, especially for use as dictionary keys or in sets where the data should not change.\n",
    "# Example:\n",
    "location = (34.0522, -118.2437)  # Latitude and Longitude\n",
    "city_info = {\n",
    "    location: \"Los Angeles\"\n",
    "}"
   ]
  },
  {
   "cell_type": "code",
   "execution_count": null,
   "id": "3b4344a5-e5c9-4f17-b6eb-90311b659191",
   "metadata": {},
   "outputs": [],
   "source": [
    "# 4. Memory Efficiency:-\n",
    "# Use Case: When working with large datasets where immutability is required, tuples are more memory-efficient than lists.\n",
    "# Example:\n",
    "# For large datasets where elements are not meant to change\n",
    "big_tuple = (1, 2, 3) * 1000000"
   ]
  },
  {
   "cell_type": "code",
   "execution_count": null,
   "id": "edd8e748-2337-47f7-9d77-6433f3627842",
   "metadata": {},
   "outputs": [],
   "source": [
    "# 5. Data Integrity:-\n",
    "# Use Case: When you want to ensure that a collection of related data remains constant and unaltered throughout its lifetime.\n",
    "# Example:\n",
    "# Storing credentials or constant settings\n",
    "credentials = ('user123', 'securepassword')"
   ]
  },
  {
   "cell_type": "code",
   "execution_count": 61,
   "id": "42febafa-7c20-4997-80ba-7e542aacb471",
   "metadata": {},
   "outputs": [
    {
     "name": "stdout",
     "output_type": "stream",
     "text": [
      "{1, 2, 3, 4, 5}\n"
     ]
    }
   ],
   "source": [
    "# Use case for Sets:\n",
    "\n",
    "# 1. Removing Duplicates:-\n",
    "#Use Case: When you have a list with duplicate items and you want to eliminate duplicates.\n",
    "# Example:\n",
    "numbers = [1, 2, 2, 3, 4, 4, 5]\n",
    "unique_numbers = set(numbers)\n",
    "print(unique_numbers)"
   ]
  },
  {
   "cell_type": "code",
   "execution_count": 62,
   "id": "f5ff59f1-1c04-4662-941e-1efe6205d08f",
   "metadata": {},
   "outputs": [
    {
     "name": "stdout",
     "output_type": "stream",
     "text": [
      "True\n",
      "False\n"
     ]
    }
   ],
   "source": [
    "# 2. Membership Testing\n",
    "# Use Case: When you need to check if an item exists in a collection frequently, sets provide O(1) average time complexity for \n",
    "# membership tests.\n",
    "# Example:\n",
    "items_in_stock = {'apple', 'banana', 'cherry'}\n",
    "print('banana' in items_in_stock)  \n",
    "print('orange' in items_in_stock)"
   ]
  },
  {
   "cell_type": "code",
   "execution_count": 63,
   "id": "aebeb2fb-ba11-48fd-9655-ccff4c322322",
   "metadata": {},
   "outputs": [
    {
     "name": "stdout",
     "output_type": "stream",
     "text": [
      "{1, 2, 3, 4, 5, 6}\n"
     ]
    }
   ],
   "source": [
    "# 3. Set Operations (Union, Intersection, Difference):-\n",
    "# Use Case: When performing mathematical set operations like union, intersection, and difference on collections of data.\n",
    "# Example:\n",
    "set_a = {1, 2, 3, 4}\n",
    "set_b = {3, 4, 5, 6}\n",
    "# Union\n",
    "union = set_a | set_b\n",
    "print(union)"
   ]
  },
  {
   "cell_type": "code",
   "execution_count": 64,
   "id": "921ff934-e963-4fa0-8f7c-fa6be10f042b",
   "metadata": {},
   "outputs": [
    {
     "name": "stdout",
     "output_type": "stream",
     "text": [
      "{3, 4}\n"
     ]
    }
   ],
   "source": [
    "# Intersection\n",
    "intersection = set_a & set_b\n",
    "print(intersection)"
   ]
  },
  {
   "cell_type": "code",
   "execution_count": 65,
   "id": "ae644601-e958-4a86-801f-8c603bcf81a7",
   "metadata": {},
   "outputs": [
    {
     "name": "stdout",
     "output_type": "stream",
     "text": [
      "{1, 2}\n"
     ]
    }
   ],
   "source": [
    "# Difference\n",
    "difference = set_a - set_b\n",
    "print(difference)"
   ]
  },
  {
   "cell_type": "code",
   "execution_count": 66,
   "id": "050a9f01-04c1-49fe-9c98-0a91af1cb808",
   "metadata": {},
   "outputs": [
    {
     "name": "stdout",
     "output_type": "stream",
     "text": [
      "{'coding', 'python', 'development'}\n"
     ]
    }
   ],
   "source": [
    "# 4. Unordered Collections of Unique Items:-\n",
    "#Use Case: When the order of items doesn’t matter but uniqueness does, such as storing distinct tags, categories, or IDs.\n",
    "# Example:\n",
    "tags = {'python', 'coding', 'development', 'python'}\n",
    "print(tags)"
   ]
  },
  {
   "cell_type": "code",
   "execution_count": 67,
   "id": "18e2b40a-82cd-4a3f-9cfd-363c1ab54d3c",
   "metadata": {},
   "outputs": [
    {
     "name": "stdout",
     "output_type": "stream",
     "text": [
      "['red', 'green']\n"
     ]
    }
   ],
   "source": [
    "# 5. Filtering Data:-\n",
    "# Use Case: When filtering a list to only include items that meet certain criteria or that belong to another set.\n",
    "# Example:\n",
    "allowed_colors = {'red', 'green', 'blue'}\n",
    "colors = ['red', 'yellow', 'green', 'purple']\n",
    "filtered_colors = [color for color in colors if color in allowed_colors]\n",
    "print(filtered_colors)"
   ]
  },
  {
   "cell_type": "code",
   "execution_count": null,
   "id": "3f9dd7d9-1fa6-495a-9bd0-0293b2be4a64",
   "metadata": {},
   "outputs": [],
   "source": [
    "# 6. Avoiding Duplicate Work:-\n",
    "# Use Case: When you want to ensure that a particular task is only performed once for each unique item."
   ]
  },
  {
   "cell_type": "code",
   "execution_count": null,
   "id": "f51d5e11-767d-4474-819c-4a939d739df8",
   "metadata": {},
   "outputs": [],
   "source": [
    "# Q7: Describe how to add, modify, and delete items in a dictionary with examples"
   ]
  },
  {
   "cell_type": "code",
   "execution_count": 68,
   "id": "98722f64-1f54-4759-9baa-8e82ac963047",
   "metadata": {},
   "outputs": [
    {
     "name": "stdout",
     "output_type": "stream",
     "text": [
      "{'name': 'John', 'age': 30, 'city': 'New York'}\n"
     ]
    }
   ],
   "source": [
    "# Ans:- Dictionaries in Python are mutable, meaning you can add, modify, and delete key-value pairs. Here’s how you can perform these operations:\n",
    "\n",
    "# 1. Adding Items to a Dictionary:-\n",
    "# You can add a new key-value pair to a dictionary by assigning a value to a new key.\n",
    "# Example:\n",
    "person = {'name': 'John', 'age': 30}\n",
    "person['city'] = 'New York'\n",
    "print(person)"
   ]
  },
  {
   "cell_type": "code",
   "execution_count": 69,
   "id": "ca894fac-0283-4bc6-ba5a-ff1f8c3264a8",
   "metadata": {},
   "outputs": [
    {
     "name": "stdout",
     "output_type": "stream",
     "text": [
      "{'name': 'John', 'age': 31, 'city': 'New York'}\n"
     ]
    }
   ],
   "source": [
    "# 2. Modifying Items in a Dictionary:-\n",
    "#To modify an existing item in a dictionary, assign a new value to an existing key.\n",
    "# Example:\n",
    "person = {'name': 'John', 'age': 30, 'city': 'New York'}\n",
    "person['age'] = 31\n",
    "print(person)"
   ]
  },
  {
   "cell_type": "code",
   "execution_count": 70,
   "id": "577f24b4-86a1-4da7-bf27-3053ea632436",
   "metadata": {},
   "outputs": [
    {
     "name": "stdout",
     "output_type": "stream",
     "text": [
      "{'name': 'John', 'age': 32}\n"
     ]
    }
   ],
   "source": [
    "# 3. Deleting Items from a Dictionary:-\n",
    "# There are several ways to delete items from a dictionary:\n",
    "# Using 'del' statement: This removes the item with the specified key.\n",
    "# Using 'pop()' method: This removes the item with the specified key and returns the value.\n",
    "# Using 'popitem()' method: This removes and returns the last inserted key-value pair (in Python 3.7 and later).\n",
    "# Using 'clear()' method: This removes all items from the dictionary.\n",
    "# Example:\n",
    "# Using 'del' statement\n",
    "person = {'name': 'John', 'age': 32, 'city': 'Los Angeles'}\n",
    "del person['city']\n",
    "print(person)"
   ]
  },
  {
   "cell_type": "code",
   "execution_count": 71,
   "id": "a60a0060-3bf8-409e-a4aa-791a2b789dd4",
   "metadata": {},
   "outputs": [
    {
     "name": "stdout",
     "output_type": "stream",
     "text": [
      "32\n",
      "{'name': 'John', 'city': 'Los Angeles'}\n"
     ]
    }
   ],
   "source": [
    "# Example:\n",
    "# using 'pop()' method:\n",
    "person = {'name': 'John', 'age': 32, 'city': 'Los Angeles'}\n",
    "age = person.pop('age')\n",
    "print(age)\n",
    "print(person)"
   ]
  },
  {
   "cell_type": "code",
   "execution_count": 72,
   "id": "b642c2b3-a18a-4348-91b7-919070dceea8",
   "metadata": {},
   "outputs": [
    {
     "name": "stdout",
     "output_type": "stream",
     "text": [
      "('city', 'Los Angeles')\n",
      "{'name': 'John', 'age': 32}\n"
     ]
    }
   ],
   "source": [
    "# Example:\n",
    "# Using 'popitem()' method:\n",
    "person = {'name': 'John', 'age': 32, 'city': 'Los Angeles'}\n",
    "last_item = person.popitem()\n",
    "print(last_item)  \n",
    "print(person)  "
   ]
  },
  {
   "cell_type": "code",
   "execution_count": 73,
   "id": "41cc217c-c4de-4102-90fb-218085b603b7",
   "metadata": {},
   "outputs": [
    {
     "name": "stdout",
     "output_type": "stream",
     "text": [
      "{}\n"
     ]
    }
   ],
   "source": [
    "# Example\n",
    "# Using 'clear()' method:\n",
    "person = {'name': 'John', 'age': 32, 'city': 'Los Angeles'}\n",
    "person.clear()\n",
    "print(person)"
   ]
  },
  {
   "cell_type": "code",
   "execution_count": null,
   "id": "4a3c451d-838d-47ab-b5fa-4db771e9f017",
   "metadata": {},
   "outputs": [],
   "source": [
    "# Q8: Discuss the importance of dictionary keys being immutable and provide examples."
   ]
  },
  {
   "cell_type": "code",
   "execution_count": null,
   "id": "06970ddc-59fd-4307-a25e-03e2ab3db930",
   "metadata": {},
   "outputs": [],
   "source": [
    "# Ans:- In Python, dictionary keys must be immutable types. This is crucial because dictionary keys are hashed, and immutability \n",
    "# ensures that the hash value of a key remains constant during the lifetime of the dictionary. If a key were mutable, its hash value \n",
    "# could change, potentially leading to incorrect data retrieval or corruption of the dictionary structure. Let's explore this concept \n",
    "# further and look at examples.\n",
    "\n",
    "# Importance of Immutability in Dictionary Keys\n",
    "\n",
    "# 1. Hashing Mechanism:-\n",
    "# Dictionaries in Python are implemented as hash tables. When you use a key to retrieve a value from a dictionary, Python uses the hash\n",
    "# of the key to determine where to look for the corresponding value in memory.\n",
    "# If the key were mutable and its content changed, the hash would also change, making it impossible for Python to find the value \n",
    "# associated with that key.\n",
    "\n",
    "# 2. Data Integrity:-\n",
    "# Immutability of keys ensures that once a key is placed in a dictionary, it stays consistent. This guarantees the integrity of the \n",
    "# data, as the association between the key and its value remains reliable throughout the program's execution.\n",
    "\n",
    "# 3. Efficiency:-\n",
    "# Immutability allows dictionaries to operate with high efficiency. Since the hash value of an immutable key is constant, Python only \n",
    "# needs to compute the hash once, which speeds up lookups, insertions, and deletions.\n",
    "\n",
    "# Examples of Immutable and Mutable Types\n",
    "\n",
    "# Immutable types (can be used as dictionary keys):\n",
    "\n",
    "# Strings: '\"name\"', '\"age\"', etc.\n",
    "# Numbers: '1', '2.5', etc.\n",
    "# Tuples: '(1, 2)', '(\"a\", \"b\")', etc. (as long as all elements of the tuple are immutable)\n",
    "# Booleans: 'True', 'False'\n",
    "\n",
    "# Mutable types (cannot be used as dictionary keys):\n",
    "\n",
    "# Lists: '[1, 2, 3]'\n",
    "# Dictionaries: '{\"key\": \"value\"}'\n",
    "# Sets: '{1, 2, 3}'"
   ]
  },
  {
   "cell_type": "code",
   "execution_count": 74,
   "id": "24d133f6-b589-47cb-a165-e37adf6c5970",
   "metadata": {},
   "outputs": [
    {
     "name": "stdout",
     "output_type": "stream",
     "text": [
      "Alice\n",
      "coordinates\n"
     ]
    }
   ],
   "source": [
    "# Example:\n",
    "# Using immutable keys (Correct Usage):\n",
    "person = {\n",
    "    \"name\": \"Alice\",\n",
    "    \"age\": 30,\n",
    "    (1, 2): \"coordinates\",\n",
    "}\n",
    "print(person[\"name\"])\n",
    "print(person[(1, 2)])  "
   ]
  },
  {
   "cell_type": "code",
   "execution_count": 75,
   "id": "c838c57e-eb2e-4de5-8226-af20b2b1cbf1",
   "metadata": {},
   "outputs": [
    {
     "name": "stdout",
     "output_type": "stream",
     "text": [
      "Error: unhashable type: 'list'\n"
     ]
    }
   ],
   "source": [
    "# Example:\n",
    "# Attempting to use Mutable keys (Incoorect Usage):\n",
    "key = [1, 2, 3]\n",
    "try:\n",
    "    my_dict = {key: \"value\"}\n",
    "except TypeError as e:\n",
    "    print(f\"Error: {e}\")"
   ]
  },
  {
   "cell_type": "code",
   "execution_count": 76,
   "id": "c9763861-685d-437b-82f5-622970255e0f",
   "metadata": {},
   "outputs": [
    {
     "name": "stdout",
     "output_type": "stream",
     "text": [
      "Error: 'tuple' object does not support item assignment\n",
      "{(10, 20): 'Park'}\n"
     ]
    }
   ],
   "source": [
    "# Example:\n",
    "# Immutability in Action:\n",
    "coordinates = (10, 20)\n",
    "location_info = {\n",
    "    coordinates: \"Park\"\n",
    "}\n",
    "try:\n",
    "    coordinates[0] = 15\n",
    "except TypeError as e:\n",
    "    print(f\"Error: {e}\")\n",
    "print(location_info)"
   ]
  },
  {
   "cell_type": "code",
   "execution_count": null,
   "id": "311bda66-e9eb-42fb-a0be-d7ff78fb9308",
   "metadata": {},
   "outputs": [],
   "source": []
  }
 ],
 "metadata": {
  "kernelspec": {
   "display_name": "Python 3 (ipykernel)",
   "language": "python",
   "name": "python3"
  },
  "language_info": {
   "codemirror_mode": {
    "name": "ipython",
    "version": 3
   },
   "file_extension": ".py",
   "mimetype": "text/x-python",
   "name": "python",
   "nbconvert_exporter": "python",
   "pygments_lexer": "ipython3",
   "version": "3.10.8"
  }
 },
 "nbformat": 4,
 "nbformat_minor": 5
}
